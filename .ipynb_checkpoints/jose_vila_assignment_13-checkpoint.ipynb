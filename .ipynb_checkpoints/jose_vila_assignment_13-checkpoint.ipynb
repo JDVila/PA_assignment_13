{
 "cells": [
  {
   "cell_type": "markdown",
   "id": "80fee32f",
   "metadata": {},
   "source": [
    "### Step 01: Add Imports"
   ]
  },
  {
   "cell_type": "code",
   "execution_count": 1,
   "id": "fde626d1",
   "metadata": {},
   "outputs": [],
   "source": [
    "import os"
   ]
  },
  {
   "cell_type": "code",
   "execution_count": 2,
   "id": "65314d96",
   "metadata": {},
   "outputs": [],
   "source": [
    "import dash"
   ]
  },
  {
   "cell_type": "code",
   "execution_count": 3,
   "id": "c18016b3",
   "metadata": {},
   "outputs": [],
   "source": [
    "from dash import dcc"
   ]
  },
  {
   "cell_type": "code",
   "execution_count": 4,
   "id": "3d39a221",
   "metadata": {},
   "outputs": [],
   "source": [
    "from dash import html"
   ]
  },
  {
   "cell_type": "code",
   "execution_count": 5,
   "id": "e21fea57",
   "metadata": {},
   "outputs": [],
   "source": [
    "from dash.dependencies import Input, Output"
   ]
  },
  {
   "cell_type": "code",
   "execution_count": 6,
   "id": "1078d0b8",
   "metadata": {},
   "outputs": [],
   "source": [
    "from keras.models import load_model"
   ]
  },
  {
   "cell_type": "code",
   "execution_count": 7,
   "id": "329b1650",
   "metadata": {},
   "outputs": [],
   "source": [
    "import joblib"
   ]
  },
  {
   "cell_type": "code",
   "execution_count": 8,
   "id": "9662dc71",
   "metadata": {},
   "outputs": [],
   "source": [
    "import numpy as np"
   ]
  },
  {
   "cell_type": "code",
   "execution_count": 9,
   "id": "c14e4f2a",
   "metadata": {},
   "outputs": [],
   "source": [
    "import pandas as pd"
   ]
  },
  {
   "cell_type": "code",
   "execution_count": 10,
   "id": "e82219ff",
   "metadata": {},
   "outputs": [],
   "source": [
    "from sklearn.preprocessing import StandardScaler"
   ]
  },
  {
   "cell_type": "markdown",
   "id": "d395aed7",
   "metadata": {},
   "source": [
    "### Step 02: Load the Model"
   ]
  },
  {
   "cell_type": "code",
   "execution_count": 11,
   "id": "7364bb1a",
   "metadata": {},
   "outputs": [],
   "source": [
    "model = load_model('diamond-neural-network.h5')"
   ]
  },
  {
   "cell_type": "code",
   "execution_count": 12,
   "id": "e8c89c75",
   "metadata": {},
   "outputs": [
    {
     "name": "stderr",
     "output_type": "stream",
     "text": [
      "/Users/josevila/anaconda3/lib/python3.10/site-packages/sklearn/base.py:347: InconsistentVersionWarning: Trying to unpickle estimator PCA from version 0.23.2 when using version 1.3.0. This might lead to breaking code or invalid results. Use at your own risk. For more info please refer to:\n",
      "https://scikit-learn.org/stable/model_persistence.html#security-maintainability-limitations\n",
      "  warnings.warn(\n"
     ]
    }
   ],
   "source": [
    "pca = joblib.load('pca.joblib')"
   ]
  },
  {
   "cell_type": "markdown",
   "id": "63fb7905",
   "metadata": {},
   "source": [
    "### Step 03: Create the HTML and use the exteranl CSS file:"
   ]
  },
  {
   "cell_type": "code",
   "execution_count": 13,
   "id": "173697c9",
   "metadata": {},
   "outputs": [],
   "source": [
    "app = dash.Dash(__name__, external_stylesheets=['https://codepen.io/chriddyp/pen/bWLwgP.css'])"
   ]
  },
  {
   "cell_type": "code",
   "execution_count": 14,
   "id": "4994c366",
   "metadata": {},
   "outputs": [],
   "source": [
    "input_carat = dcc.Input(id='carat', type='numeric', value=0.7)"
   ]
  },
  {
   "cell_type": "code",
   "execution_count": 15,
   "id": "43feba86",
   "metadata": {},
   "outputs": [],
   "source": [
    "div_carat = html.Div(children=[html.H3('Carat:'), input_carat], className='four columns')"
   ]
  },
  {
   "cell_type": "code",
   "execution_count": 16,
   "id": "368d0a96",
   "metadata": {},
   "outputs": [],
   "source": [
    "input_depth = dcc.Input(id='depth', placeholder='', type='numeric', value=60)"
   ]
  },
  {
   "cell_type": "code",
   "execution_count": 17,
   "id": "e6666810",
   "metadata": {},
   "outputs": [],
   "source": [
    "div_depth = html.Div(children=[html.H3('Depth:'), input_depth], className='four columns')"
   ]
  },
  {
   "cell_type": "code",
   "execution_count": 18,
   "id": "2a2820de",
   "metadata": {},
   "outputs": [],
   "source": [
    "input_table = dcc.Input(id='table', placeholder='', type='numeric', value=60)"
   ]
  },
  {
   "cell_type": "code",
   "execution_count": 19,
   "id": "bde83b21",
   "metadata": {},
   "outputs": [],
   "source": [
    "div_table = html.Div(children=[html.H3('Table:'), input_table], className='four columns')"
   ]
  },
  {
   "cell_type": "code",
   "execution_count": 20,
   "id": "a9cfceff",
   "metadata": {},
   "outputs": [],
   "source": [
    "input_x = dcc.Input(id='x', placeholder='', type='numeric', value=5)"
   ]
  },
  {
   "cell_type": "code",
   "execution_count": 21,
   "id": "7f33b5d7",
   "metadata": {},
   "outputs": [],
   "source": [
    "div_x = html.Div(children=[html.H3('x value:'), input_x], className='four columns')"
   ]
  },
  {
   "cell_type": "code",
   "execution_count": 22,
   "id": "e2bf8eed",
   "metadata": {},
   "outputs": [],
   "source": [
    "input_y = dcc.Input(id='y', placeholder='', type='numeric', value=5)"
   ]
  },
  {
   "cell_type": "code",
   "execution_count": 23,
   "id": "9b0153d1",
   "metadata": {},
   "outputs": [],
   "source": [
    "div_y = html.Div(children=[html.H3('y value:'), input_y], className='four columns')"
   ]
  },
  {
   "cell_type": "code",
   "execution_count": 24,
   "id": "ea9ff99e",
   "metadata": {},
   "outputs": [],
   "source": [
    "input_z = dcc.Input(id='z', placeholder='', type='numeric', value=3)"
   ]
  },
  {
   "cell_type": "code",
   "execution_count": 25,
   "id": "7685b658",
   "metadata": {},
   "outputs": [],
   "source": [
    "div_z = html.Div(children=[html.H3('z value:'), input_z], className='four columns')"
   ]
  },
  {
   "cell_type": "code",
   "execution_count": 26,
   "id": "b2939b82",
   "metadata": {},
   "outputs": [],
   "source": [
    "cut_values = ['Fair', 'Good', 'Ideal', 'Premium', 'Very Good']"
   ]
  },
  {
   "cell_type": "code",
   "execution_count": 27,
   "id": "2d4203f2",
   "metadata": {},
   "outputs": [],
   "source": [
    "cut_options = [ {'label': x, 'value': x} for x in cut_values ]"
   ]
  },
  {
   "cell_type": "code",
   "execution_count": 28,
   "id": "52e3b4c3",
   "metadata": {},
   "outputs": [],
   "source": [
    "input_cut = dcc.Dropdown(id='cut', options = cut_options, value = 'Ideal')"
   ]
  },
  {
   "cell_type": "code",
   "execution_count": 29,
   "id": "b1a28992",
   "metadata": {},
   "outputs": [],
   "source": [
    "div_cut = html.Div(children=[html.H3('Cut:'), input_cut], className='four columns')"
   ]
  },
  {
   "cell_type": "code",
   "execution_count": 30,
   "id": "9d64ea7b",
   "metadata": {},
   "outputs": [],
   "source": [
    "color_values = ['D', 'E', 'F', 'G', 'H', 'I', 'J']"
   ]
  },
  {
   "cell_type": "code",
   "execution_count": 31,
   "id": "16cf362d",
   "metadata": {},
   "outputs": [],
   "source": [
    "color_options = [ {'label': x, 'value': x} for x in color_values ]"
   ]
  },
  {
   "cell_type": "code",
   "execution_count": 32,
   "id": "9f486534",
   "metadata": {},
   "outputs": [],
   "source": [
    "input_color = dcc.Dropdown(id='color', options = color_options, value = 'G')"
   ]
  },
  {
   "cell_type": "code",
   "execution_count": 33,
   "id": "58213195",
   "metadata": {},
   "outputs": [],
   "source": [
    "div_color = html.Div(children=[html.H3('Color:'), input_color], className='four columns')"
   ]
  },
  {
   "cell_type": "code",
   "execution_count": 34,
   "id": "54819d36",
   "metadata": {},
   "outputs": [],
   "source": [
    "clarity_values = ['I1', 'IF', 'SI1', 'VS1', 'VS2', 'VVS1', 'VVS2']"
   ]
  },
  {
   "cell_type": "code",
   "execution_count": 35,
   "id": "68467686",
   "metadata": {},
   "outputs": [],
   "source": [
    "clarity_options = [ {'label': x, 'value': x} for x in clarity_values ]"
   ]
  },
  {
   "cell_type": "code",
   "execution_count": 36,
   "id": "65833fd9",
   "metadata": {},
   "outputs": [],
   "source": [
    "input_clarity = dcc.Dropdown(id='clarity', options = clarity_options, value = 'SI1')"
   ]
  },
  {
   "cell_type": "code",
   "execution_count": 37,
   "id": "e40f209c",
   "metadata": {},
   "outputs": [],
   "source": [
    "div_clarity = html.Div(children=[html.H3('Clarity:'), input_clarity], className='four columns')"
   ]
  },
  {
   "cell_type": "code",
   "execution_count": 38,
   "id": "c7d094ed",
   "metadata": {},
   "outputs": [],
   "source": [
    "div_numerical = html.Div(children=[div_carat, div_depth, div_table], className='row')"
   ]
  },
  {
   "cell_type": "code",
   "execution_count": 39,
   "id": "908a8ca3",
   "metadata": {},
   "outputs": [],
   "source": [
    "div_dimensions = html.Div(children=[div_x, div_y, div_z], className='row')"
   ]
  },
  {
   "cell_type": "code",
   "execution_count": 40,
   "id": "96d06535",
   "metadata": {},
   "outputs": [],
   "source": [
    "div_categorical = html.Div(children=[div_cut, div_color, div_clarity], className='row')"
   ]
  },
  {
   "cell_type": "markdown",
   "id": "2e26f6dd",
   "metadata": {},
   "source": [
    "### Step 04: Use the model with the inputs from Dash:"
   ]
  },
  {
   "cell_type": "code",
   "execution_count": 41,
   "id": "f4d8cd27",
   "metadata": {},
   "outputs": [],
   "source": [
    "def get_prediction(carat, depth, table, x, y, z, cut, color, clarity):\n",
    "    cols = ['carat', 'depth', 'table', 'cut_Good', 'cut_Ideal', 'cut_Premium', 'cut_Very Good', 'color_E', 'color_F', 'color_G', 'color_H', 'color_I', 'color_J', 'clarity_IF', 'clarity_SI1', 'clarity_SI2', 'clarity_VS1', 'clarity_VS2', 'clarity_VVS1', 'clarity_VVS2', 'dim_index']\n",
    "\n",
    "    cut_dict = { x: 'cut_' + x for x in cut_values[1:] }\n",
    "    color_dict = { x: 'color_' + x for x in color_values[1:] }\n",
    "    clarity_dict = { x: 'clarity_' + x for x in clarity_values[1:] }\n",
    "\n",
    "    df = pd.DataFrame(data=np.zeros( (1, len(cols)) ), columns=cols)\n",
    "    df.loc[0, 'carat'] = carat\n",
    "    df.loc[0, 'depth'] = depth\n",
    "    df.loc[0, 'table'] = table\n",
    "\n",
    "    dims_df = pd.DataFrame(data=[[x, y, z]], columns=['x', 'y', 'z'])\n",
    "    df.loc[0, 'dim_index'] = pca.transform(dims_df).flatten()[0]\n",
    "\n",
    "    if cut != 'Fair':\n",
    "        df.loc[0, cut_dict[cut]] = 1\n",
    "    \n",
    "    if color != 'D':\n",
    "        df.loc[0, color_dict[color]] = 1\n",
    "\n",
    "    if clarity != 'I1':\n",
    "        df.loc[0, clarity_dict[clarity]] = 1\n",
    "    \n",
    "    scaler = StandardScaler()\n",
    "    \n",
    "    numerical_features = ['carat', 'depth', 'table', 'dim_index']\n",
    "    \n",
    "    df.loc[:, numerical_features] = scaler.fit_transform(df.loc[:, numerical_features])\n",
    "\n",
    "    prediction = model.predict(df.values).flatten()[0]\n",
    "    \n",
    "    #prediction = np.exp(prediction)\n",
    "\n",
    "    return int(prediction)"
   ]
  },
  {
   "cell_type": "code",
   "execution_count": 42,
   "id": "6a22b4f2",
   "metadata": {},
   "outputs": [],
   "source": [
    "app.layout = html.Div([html.H1('IDR Predict diamond prices'), html.H2('Enter the diamond characteristics to get the predicted price'), html.Div(children=[div_numerical, div_dimensions, div_categorical]), html.H1(id='output', style = {'margin-top': '50px', 'text-align': 'center'})])"
   ]
  },
  {
   "cell_type": "code",
   "execution_count": 43,
   "id": "ae161165",
   "metadata": {},
   "outputs": [],
   "source": [
    "predictors = ['carat', 'depth', 'table', 'x', 'y', 'z', 'cut', 'color', 'clarity']"
   ]
  },
  {
   "cell_type": "code",
   "execution_count": 44,
   "id": "5dc353ce",
   "metadata": {},
   "outputs": [],
   "source": [
    "### Step 05: Display the Predicted Price"
   ]
  },
  {
   "cell_type": "code",
   "execution_count": 45,
   "id": "36bc2e73",
   "metadata": {},
   "outputs": [],
   "source": [
    "@app.callback(Output('output', 'children'), [Input(x, 'value') for x in predictors])\n",
    "def show_prediction(carat, depth, table, x, y, z, cut, color, clarity):\n",
    "    pred = get_prediction(carat, depth, table, x, y, z, cut, color, clarity)\n",
    "    return str('Predicted Price: {:,}'.format(pred))"
   ]
  },
  {
   "cell_type": "code",
   "execution_count": 46,
   "id": "6bd442f7",
   "metadata": {
    "scrolled": false
   },
   "outputs": [
    {
     "data": {
      "text/html": [
       "\n",
       "        <iframe\n",
       "            width=\"100%\"\n",
       "            height=\"650\"\n",
       "            src=\"http://127.0.0.1:8050/\"\n",
       "            frameborder=\"0\"\n",
       "            allowfullscreen\n",
       "            \n",
       "        ></iframe>\n",
       "        "
      ],
      "text/plain": [
       "<IPython.lib.display.IFrame at 0x28f73a620>"
      ]
     },
     "metadata": {},
     "output_type": "display_data"
    },
    {
     "name": "stdout",
     "output_type": "stream",
     "text": [
      "1/1 [==============================] - 0s 34ms/step\n"
     ]
    },
    {
     "name": "stderr",
     "output_type": "stream",
     "text": [
      "/Users/josevila/anaconda3/lib/python3.10/site-packages/sklearn/base.py:457: UserWarning:\n",
      "\n",
      "X has feature names, but PCA was fitted without feature names\n",
      "\n"
     ]
    }
   ],
   "source": [
    "if __name__ == '__main__':\n",
    "    app.run_server(debug=False)"
   ]
  },
  {
   "cell_type": "code",
   "execution_count": null,
   "id": "df85e606",
   "metadata": {},
   "outputs": [],
   "source": []
  },
  {
   "cell_type": "code",
   "execution_count": null,
   "id": "2e802998",
   "metadata": {},
   "outputs": [],
   "source": []
  },
  {
   "cell_type": "code",
   "execution_count": null,
   "id": "29f40f36",
   "metadata": {},
   "outputs": [],
   "source": []
  },
  {
   "cell_type": "code",
   "execution_count": null,
   "id": "43502dcf",
   "metadata": {},
   "outputs": [],
   "source": []
  }
 ],
 "metadata": {
  "kernelspec": {
   "display_name": "Python 3 (ipykernel)",
   "language": "python",
   "name": "python3"
  },
  "language_info": {
   "codemirror_mode": {
    "name": "ipython",
    "version": 3
   },
   "file_extension": ".py",
   "mimetype": "text/x-python",
   "name": "python",
   "nbconvert_exporter": "python",
   "pygments_lexer": "ipython3",
   "version": "3.10.9"
  }
 },
 "nbformat": 4,
 "nbformat_minor": 5
}
